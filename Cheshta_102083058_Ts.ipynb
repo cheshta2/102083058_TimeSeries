{
  "nbformat": 4,
  "nbformat_minor": 0,
  "metadata": {
    "colab": {
      "provenance": []
    },
    "kernelspec": {
      "name": "python3",
      "display_name": "Python 3"
    },
    "language_info": {
      "name": "python"
    }
  },
  "cells": [
    {
      "cell_type": "markdown",
      "source": [
        "Time Series "
      ],
      "metadata": {
        "id": "-LIvvyoWQzhs"
      }
    },
    {
      "cell_type": "markdown",
      "source": [
        "By-\n",
        "Cheshta\n",
        "102083058\n",
        "COE7\n"
      ],
      "metadata": {
        "id": "k7PBlFOYQzOt"
      }
    },
    {
      "cell_type": "markdown",
      "source": [
        "Here, I have used three models, calculated their RMSE values for given dataset. Later, results are plotted between true values and predictions for the best model. "
      ],
      "metadata": {
        "id": "W2cC0GgPRLWa"
      }
    },
    {
      "cell_type": "code",
      "execution_count": 1,
      "metadata": {
        "id": "W_Y57kC2wo9i"
      },
      "outputs": [],
      "source": [
        "import pandas as pd\n",
        "import numpy as np\n",
        "from tensorflow.keras.models import Sequential\n",
        "from tensorflow.keras.layers import LSTM\n",
        "from tensorflow.keras.layers import Dense, Dropout\n",
        "import pandas as pd\n",
        "from matplotlib import pyplot as plt\n",
        "import seaborn as sns"
      ]
    },
    {
      "cell_type": "code",
      "source": [
        "from sklearn.preprocessing import StandardScaler\n",
        "from lightgbm import LGBMRegressor\n",
        "from sklearn.ensemble import RandomForestRegressor\n",
        "from sklearn.ensemble import ExtraTreesRegressor\n",
        "from sklearn.model_selection import cross_val_score\n",
        "from sklearn.metrics import mean_squared_error\n",
        "import math"
      ],
      "metadata": {
        "id": "_gJUQgALR8O8"
      },
      "execution_count": 2,
      "outputs": []
    },
    {
      "cell_type": "markdown",
      "source": [
        "Three models that I have compared RMSE values of are:\n",
        "1. LightGBM Regressor\n",
        "2. Random Forest Regressor\n",
        "3. Extra Trees Regressor"
      ],
      "metadata": {
        "id": "IGsCq7tASEpI"
      }
    },
    {
      "cell_type": "code",
      "source": [
        "df = pd.read_excel('DATASET.xlsx')"
      ],
      "metadata": {
        "id": "kN-G_JNUzhcb",
        "colab": {
          "base_uri": "https://localhost:8080/"
        },
        "outputId": "d80362e3-a623-4931-a90a-db6a1a06c309"
      },
      "execution_count": 4,
      "outputs": [
        {
          "output_type": "stream",
          "name": "stderr",
          "text": [
            "/usr/local/lib/python3.7/dist-packages/openpyxl/worksheet/_reader.py:312: UserWarning: Unknown extension is not supported and will be removed\n",
            "  warn(msg)\n",
            "/usr/local/lib/python3.7/dist-packages/openpyxl/worksheet/_reader.py:312: UserWarning: Conditional Formatting extension is not supported and will be removed\n",
            "  warn(msg)\n"
          ]
        }
      ]
    },
    {
      "cell_type": "code",
      "source": [
        "df.head()"
      ],
      "metadata": {
        "colab": {
          "base_uri": "https://localhost:8080/",
          "height": 206
        },
        "id": "6oEpP7YJzhfb",
        "outputId": "f1b8cf49-0552-499b-f34c-ccf56df47dfb"
      },
      "execution_count": 5,
      "outputs": [
        {
          "output_type": "execute_result",
          "data": {
            "text/plain": [
              "  Unnamed: 0  year  Para-1  Para-2  Para-3  Para-4  Para-5  Para-6  Para-7  \\\n",
              "0      Sec_1     1   324.0   354.5    17.0     0.0       3     117    2600   \n",
              "1        NaN     2   324.0   161.1    18.2     0.0       4     106    5950   \n",
              "2        NaN     3   324.0   170.7    18.5     0.0       4     110    5950   \n",
              "3        NaN     4   324.0   223.9    18.9     0.0       3     110    6150   \n",
              "4        NaN     5   324.0   228.2    18.4     0.0       2     113    6340   \n",
              "\n",
              "   Para-8  Para-9  Para-10  Para-11  Para-12  Para-13  \n",
              "0     400     0.0      0.0      0.0        0     1.52  \n",
              "1    1190     0.0      3.4      0.0        0     1.62  \n",
              "2    1190     0.0     21.3      0.0        4     1.68  \n",
              "3    1340     0.0     21.3      0.0        5     1.78  \n",
              "4    1450     0.0     23.9      0.0        7     1.80  "
            ],
            "text/html": [
              "\n",
              "  <div id=\"df-1f96887d-b0e9-421b-a97f-16b9cbbd092b\">\n",
              "    <div class=\"colab-df-container\">\n",
              "      <div>\n",
              "<style scoped>\n",
              "    .dataframe tbody tr th:only-of-type {\n",
              "        vertical-align: middle;\n",
              "    }\n",
              "\n",
              "    .dataframe tbody tr th {\n",
              "        vertical-align: top;\n",
              "    }\n",
              "\n",
              "    .dataframe thead th {\n",
              "        text-align: right;\n",
              "    }\n",
              "</style>\n",
              "<table border=\"1\" class=\"dataframe\">\n",
              "  <thead>\n",
              "    <tr style=\"text-align: right;\">\n",
              "      <th></th>\n",
              "      <th>Unnamed: 0</th>\n",
              "      <th>year</th>\n",
              "      <th>Para-1</th>\n",
              "      <th>Para-2</th>\n",
              "      <th>Para-3</th>\n",
              "      <th>Para-4</th>\n",
              "      <th>Para-5</th>\n",
              "      <th>Para-6</th>\n",
              "      <th>Para-7</th>\n",
              "      <th>Para-8</th>\n",
              "      <th>Para-9</th>\n",
              "      <th>Para-10</th>\n",
              "      <th>Para-11</th>\n",
              "      <th>Para-12</th>\n",
              "      <th>Para-13</th>\n",
              "    </tr>\n",
              "  </thead>\n",
              "  <tbody>\n",
              "    <tr>\n",
              "      <th>0</th>\n",
              "      <td>Sec_1</td>\n",
              "      <td>1</td>\n",
              "      <td>324.0</td>\n",
              "      <td>354.5</td>\n",
              "      <td>17.0</td>\n",
              "      <td>0.0</td>\n",
              "      <td>3</td>\n",
              "      <td>117</td>\n",
              "      <td>2600</td>\n",
              "      <td>400</td>\n",
              "      <td>0.0</td>\n",
              "      <td>0.0</td>\n",
              "      <td>0.0</td>\n",
              "      <td>0</td>\n",
              "      <td>1.52</td>\n",
              "    </tr>\n",
              "    <tr>\n",
              "      <th>1</th>\n",
              "      <td>NaN</td>\n",
              "      <td>2</td>\n",
              "      <td>324.0</td>\n",
              "      <td>161.1</td>\n",
              "      <td>18.2</td>\n",
              "      <td>0.0</td>\n",
              "      <td>4</td>\n",
              "      <td>106</td>\n",
              "      <td>5950</td>\n",
              "      <td>1190</td>\n",
              "      <td>0.0</td>\n",
              "      <td>3.4</td>\n",
              "      <td>0.0</td>\n",
              "      <td>0</td>\n",
              "      <td>1.62</td>\n",
              "    </tr>\n",
              "    <tr>\n",
              "      <th>2</th>\n",
              "      <td>NaN</td>\n",
              "      <td>3</td>\n",
              "      <td>324.0</td>\n",
              "      <td>170.7</td>\n",
              "      <td>18.5</td>\n",
              "      <td>0.0</td>\n",
              "      <td>4</td>\n",
              "      <td>110</td>\n",
              "      <td>5950</td>\n",
              "      <td>1190</td>\n",
              "      <td>0.0</td>\n",
              "      <td>21.3</td>\n",
              "      <td>0.0</td>\n",
              "      <td>4</td>\n",
              "      <td>1.68</td>\n",
              "    </tr>\n",
              "    <tr>\n",
              "      <th>3</th>\n",
              "      <td>NaN</td>\n",
              "      <td>4</td>\n",
              "      <td>324.0</td>\n",
              "      <td>223.9</td>\n",
              "      <td>18.9</td>\n",
              "      <td>0.0</td>\n",
              "      <td>3</td>\n",
              "      <td>110</td>\n",
              "      <td>6150</td>\n",
              "      <td>1340</td>\n",
              "      <td>0.0</td>\n",
              "      <td>21.3</td>\n",
              "      <td>0.0</td>\n",
              "      <td>5</td>\n",
              "      <td>1.78</td>\n",
              "    </tr>\n",
              "    <tr>\n",
              "      <th>4</th>\n",
              "      <td>NaN</td>\n",
              "      <td>5</td>\n",
              "      <td>324.0</td>\n",
              "      <td>228.2</td>\n",
              "      <td>18.4</td>\n",
              "      <td>0.0</td>\n",
              "      <td>2</td>\n",
              "      <td>113</td>\n",
              "      <td>6340</td>\n",
              "      <td>1450</td>\n",
              "      <td>0.0</td>\n",
              "      <td>23.9</td>\n",
              "      <td>0.0</td>\n",
              "      <td>7</td>\n",
              "      <td>1.80</td>\n",
              "    </tr>\n",
              "  </tbody>\n",
              "</table>\n",
              "</div>\n",
              "      <button class=\"colab-df-convert\" onclick=\"convertToInteractive('df-1f96887d-b0e9-421b-a97f-16b9cbbd092b')\"\n",
              "              title=\"Convert this dataframe to an interactive table.\"\n",
              "              style=\"display:none;\">\n",
              "        \n",
              "  <svg xmlns=\"http://www.w3.org/2000/svg\" height=\"24px\"viewBox=\"0 0 24 24\"\n",
              "       width=\"24px\">\n",
              "    <path d=\"M0 0h24v24H0V0z\" fill=\"none\"/>\n",
              "    <path d=\"M18.56 5.44l.94 2.06.94-2.06 2.06-.94-2.06-.94-.94-2.06-.94 2.06-2.06.94zm-11 1L8.5 8.5l.94-2.06 2.06-.94-2.06-.94L8.5 2.5l-.94 2.06-2.06.94zm10 10l.94 2.06.94-2.06 2.06-.94-2.06-.94-.94-2.06-.94 2.06-2.06.94z\"/><path d=\"M17.41 7.96l-1.37-1.37c-.4-.4-.92-.59-1.43-.59-.52 0-1.04.2-1.43.59L10.3 9.45l-7.72 7.72c-.78.78-.78 2.05 0 2.83L4 21.41c.39.39.9.59 1.41.59.51 0 1.02-.2 1.41-.59l7.78-7.78 2.81-2.81c.8-.78.8-2.07 0-2.86zM5.41 20L4 18.59l7.72-7.72 1.47 1.35L5.41 20z\"/>\n",
              "  </svg>\n",
              "      </button>\n",
              "      \n",
              "  <style>\n",
              "    .colab-df-container {\n",
              "      display:flex;\n",
              "      flex-wrap:wrap;\n",
              "      gap: 12px;\n",
              "    }\n",
              "\n",
              "    .colab-df-convert {\n",
              "      background-color: #E8F0FE;\n",
              "      border: none;\n",
              "      border-radius: 50%;\n",
              "      cursor: pointer;\n",
              "      display: none;\n",
              "      fill: #1967D2;\n",
              "      height: 32px;\n",
              "      padding: 0 0 0 0;\n",
              "      width: 32px;\n",
              "    }\n",
              "\n",
              "    .colab-df-convert:hover {\n",
              "      background-color: #E2EBFA;\n",
              "      box-shadow: 0px 1px 2px rgba(60, 64, 67, 0.3), 0px 1px 3px 1px rgba(60, 64, 67, 0.15);\n",
              "      fill: #174EA6;\n",
              "    }\n",
              "\n",
              "    [theme=dark] .colab-df-convert {\n",
              "      background-color: #3B4455;\n",
              "      fill: #D2E3FC;\n",
              "    }\n",
              "\n",
              "    [theme=dark] .colab-df-convert:hover {\n",
              "      background-color: #434B5C;\n",
              "      box-shadow: 0px 1px 3px 1px rgba(0, 0, 0, 0.15);\n",
              "      filter: drop-shadow(0px 1px 2px rgba(0, 0, 0, 0.3));\n",
              "      fill: #FFFFFF;\n",
              "    }\n",
              "  </style>\n",
              "\n",
              "      <script>\n",
              "        const buttonEl =\n",
              "          document.querySelector('#df-1f96887d-b0e9-421b-a97f-16b9cbbd092b button.colab-df-convert');\n",
              "        buttonEl.style.display =\n",
              "          google.colab.kernel.accessAllowed ? 'block' : 'none';\n",
              "\n",
              "        async function convertToInteractive(key) {\n",
              "          const element = document.querySelector('#df-1f96887d-b0e9-421b-a97f-16b9cbbd092b');\n",
              "          const dataTable =\n",
              "            await google.colab.kernel.invokeFunction('convertToInteractive',\n",
              "                                                     [key], {});\n",
              "          if (!dataTable) return;\n",
              "\n",
              "          const docLinkHtml = 'Like what you see? Visit the ' +\n",
              "            '<a target=\"_blank\" href=https://colab.research.google.com/notebooks/data_table.ipynb>data table notebook</a>'\n",
              "            + ' to learn more about interactive tables.';\n",
              "          element.innerHTML = '';\n",
              "          dataTable['output_type'] = 'display_data';\n",
              "          await google.colab.output.renderOutput(dataTable, element);\n",
              "          const docLink = document.createElement('div');\n",
              "          docLink.innerHTML = docLinkHtml;\n",
              "          element.appendChild(docLink);\n",
              "        }\n",
              "      </script>\n",
              "    </div>\n",
              "  </div>\n",
              "  "
            ]
          },
          "metadata": {},
          "execution_count": 5
        }
      ]
    },
    {
      "cell_type": "code",
      "source": [
        "j = 0\n",
        "for i in range(100):\n",
        "    df.iloc[j:j + 10, 0] = df.iloc[j, 0]\n",
        "    j += 10"
      ],
      "metadata": {
        "id": "jaMznLIpzhid"
      },
      "execution_count": 6,
      "outputs": []
    },
    {
      "cell_type": "code",
      "source": [
        "df.columns = df.columns.str.replace('Unnamed: 0', 'Section')"
      ],
      "metadata": {
        "id": "UzCYXzGszhlN"
      },
      "execution_count": 7,
      "outputs": []
    },
    {
      "cell_type": "code",
      "source": [
        "df.fillna(0, inplace=True)"
      ],
      "metadata": {
        "id": "VPPyxR-4zhoN"
      },
      "execution_count": 8,
      "outputs": []
    },
    {
      "cell_type": "code",
      "source": [
        "test = df.loc[df['year'] == 10]\n",
        "test"
      ],
      "metadata": {
        "colab": {
          "base_uri": "https://localhost:8080/",
          "height": 424
        },
        "id": "-k2b3mzPzhrD",
        "outputId": "9c39aef1-eb31-41d9-bb50-34450d0301f6"
      },
      "execution_count": 9,
      "outputs": [
        {
          "output_type": "execute_result",
          "data": {
            "text/plain": [
              "     Section  year  Para-1  Para-2  Para-3  Para-4  Para-5  Para-6  Para-7  \\\n",
              "9      Sec_1    10   324.0    53.6    19.0     0.0       2     105    7567   \n",
              "19     Sec_2    10   327.7    62.0    22.7     0.0       2     102   30525   \n",
              "29     Sec_3    10   487.7    93.2    22.5     0.0       4     110    2140   \n",
              "39     Sec_4    10   543.6    93.2    22.5     0.0       4     110    2140   \n",
              "49     Sec_5    10   434.4   149.0    11.7    72.0       3     110   13142   \n",
              "...      ...   ...     ...     ...     ...     ...     ...     ...     ...   \n",
              "968        0    10   514.0  1226.4    10.1   203.6      16     114    7672   \n",
              "978        0    10   901.0  1531.0    11.1    34.9      40     100   15150   \n",
              "988        0    10  1181.0  1364.9     9.2   274.3      24     112   12500   \n",
              "998        0    10   662.0  1110.7    12.8    33.2      27     117    3324   \n",
              "1008       0    10   454.0   986.3    14.3    67.0      24     122    4415   \n",
              "\n",
              "      Para-8  Para-9  Para-10  Para-11  Para-12  Para-13  \n",
              "9       1885    16.8    105.0     65.0        9    1.960  \n",
              "19     10234    76.5     44.3      5.0        9    0.795  \n",
              "29      1270    78.5      0.0      0.0       16    1.432  \n",
              "39      1270    28.5     60.5     67.0       11    2.004  \n",
              "49      6225     0.0    276.2     34.0        6    1.792  \n",
              "...      ...     ...      ...      ...      ...      ...  \n",
              "968      303   219.7    206.2     10.0        8    1.607  \n",
              "978     1077     5.9     74.5     33.0       13    1.087  \n",
              "988      880   131.4     72.4     18.0       12    0.996  \n",
              "998     1356   193.7    305.6    180.0       12    2.212  \n",
              "1008     721   293.0     39.8      7.0       18    1.889  \n",
              "\n",
              "[100 rows x 15 columns]"
            ],
            "text/html": [
              "\n",
              "  <div id=\"df-73ed96ae-3151-416a-b6d5-0b9e6abc9ebb\">\n",
              "    <div class=\"colab-df-container\">\n",
              "      <div>\n",
              "<style scoped>\n",
              "    .dataframe tbody tr th:only-of-type {\n",
              "        vertical-align: middle;\n",
              "    }\n",
              "\n",
              "    .dataframe tbody tr th {\n",
              "        vertical-align: top;\n",
              "    }\n",
              "\n",
              "    .dataframe thead th {\n",
              "        text-align: right;\n",
              "    }\n",
              "</style>\n",
              "<table border=\"1\" class=\"dataframe\">\n",
              "  <thead>\n",
              "    <tr style=\"text-align: right;\">\n",
              "      <th></th>\n",
              "      <th>Section</th>\n",
              "      <th>year</th>\n",
              "      <th>Para-1</th>\n",
              "      <th>Para-2</th>\n",
              "      <th>Para-3</th>\n",
              "      <th>Para-4</th>\n",
              "      <th>Para-5</th>\n",
              "      <th>Para-6</th>\n",
              "      <th>Para-7</th>\n",
              "      <th>Para-8</th>\n",
              "      <th>Para-9</th>\n",
              "      <th>Para-10</th>\n",
              "      <th>Para-11</th>\n",
              "      <th>Para-12</th>\n",
              "      <th>Para-13</th>\n",
              "    </tr>\n",
              "  </thead>\n",
              "  <tbody>\n",
              "    <tr>\n",
              "      <th>9</th>\n",
              "      <td>Sec_1</td>\n",
              "      <td>10</td>\n",
              "      <td>324.0</td>\n",
              "      <td>53.6</td>\n",
              "      <td>19.0</td>\n",
              "      <td>0.0</td>\n",
              "      <td>2</td>\n",
              "      <td>105</td>\n",
              "      <td>7567</td>\n",
              "      <td>1885</td>\n",
              "      <td>16.8</td>\n",
              "      <td>105.0</td>\n",
              "      <td>65.0</td>\n",
              "      <td>9</td>\n",
              "      <td>1.960</td>\n",
              "    </tr>\n",
              "    <tr>\n",
              "      <th>19</th>\n",
              "      <td>Sec_2</td>\n",
              "      <td>10</td>\n",
              "      <td>327.7</td>\n",
              "      <td>62.0</td>\n",
              "      <td>22.7</td>\n",
              "      <td>0.0</td>\n",
              "      <td>2</td>\n",
              "      <td>102</td>\n",
              "      <td>30525</td>\n",
              "      <td>10234</td>\n",
              "      <td>76.5</td>\n",
              "      <td>44.3</td>\n",
              "      <td>5.0</td>\n",
              "      <td>9</td>\n",
              "      <td>0.795</td>\n",
              "    </tr>\n",
              "    <tr>\n",
              "      <th>29</th>\n",
              "      <td>Sec_3</td>\n",
              "      <td>10</td>\n",
              "      <td>487.7</td>\n",
              "      <td>93.2</td>\n",
              "      <td>22.5</td>\n",
              "      <td>0.0</td>\n",
              "      <td>4</td>\n",
              "      <td>110</td>\n",
              "      <td>2140</td>\n",
              "      <td>1270</td>\n",
              "      <td>78.5</td>\n",
              "      <td>0.0</td>\n",
              "      <td>0.0</td>\n",
              "      <td>16</td>\n",
              "      <td>1.432</td>\n",
              "    </tr>\n",
              "    <tr>\n",
              "      <th>39</th>\n",
              "      <td>Sec_4</td>\n",
              "      <td>10</td>\n",
              "      <td>543.6</td>\n",
              "      <td>93.2</td>\n",
              "      <td>22.5</td>\n",
              "      <td>0.0</td>\n",
              "      <td>4</td>\n",
              "      <td>110</td>\n",
              "      <td>2140</td>\n",
              "      <td>1270</td>\n",
              "      <td>28.5</td>\n",
              "      <td>60.5</td>\n",
              "      <td>67.0</td>\n",
              "      <td>11</td>\n",
              "      <td>2.004</td>\n",
              "    </tr>\n",
              "    <tr>\n",
              "      <th>49</th>\n",
              "      <td>Sec_5</td>\n",
              "      <td>10</td>\n",
              "      <td>434.4</td>\n",
              "      <td>149.0</td>\n",
              "      <td>11.7</td>\n",
              "      <td>72.0</td>\n",
              "      <td>3</td>\n",
              "      <td>110</td>\n",
              "      <td>13142</td>\n",
              "      <td>6225</td>\n",
              "      <td>0.0</td>\n",
              "      <td>276.2</td>\n",
              "      <td>34.0</td>\n",
              "      <td>6</td>\n",
              "      <td>1.792</td>\n",
              "    </tr>\n",
              "    <tr>\n",
              "      <th>...</th>\n",
              "      <td>...</td>\n",
              "      <td>...</td>\n",
              "      <td>...</td>\n",
              "      <td>...</td>\n",
              "      <td>...</td>\n",
              "      <td>...</td>\n",
              "      <td>...</td>\n",
              "      <td>...</td>\n",
              "      <td>...</td>\n",
              "      <td>...</td>\n",
              "      <td>...</td>\n",
              "      <td>...</td>\n",
              "      <td>...</td>\n",
              "      <td>...</td>\n",
              "      <td>...</td>\n",
              "    </tr>\n",
              "    <tr>\n",
              "      <th>968</th>\n",
              "      <td>0</td>\n",
              "      <td>10</td>\n",
              "      <td>514.0</td>\n",
              "      <td>1226.4</td>\n",
              "      <td>10.1</td>\n",
              "      <td>203.6</td>\n",
              "      <td>16</td>\n",
              "      <td>114</td>\n",
              "      <td>7672</td>\n",
              "      <td>303</td>\n",
              "      <td>219.7</td>\n",
              "      <td>206.2</td>\n",
              "      <td>10.0</td>\n",
              "      <td>8</td>\n",
              "      <td>1.607</td>\n",
              "    </tr>\n",
              "    <tr>\n",
              "      <th>978</th>\n",
              "      <td>0</td>\n",
              "      <td>10</td>\n",
              "      <td>901.0</td>\n",
              "      <td>1531.0</td>\n",
              "      <td>11.1</td>\n",
              "      <td>34.9</td>\n",
              "      <td>40</td>\n",
              "      <td>100</td>\n",
              "      <td>15150</td>\n",
              "      <td>1077</td>\n",
              "      <td>5.9</td>\n",
              "      <td>74.5</td>\n",
              "      <td>33.0</td>\n",
              "      <td>13</td>\n",
              "      <td>1.087</td>\n",
              "    </tr>\n",
              "    <tr>\n",
              "      <th>988</th>\n",
              "      <td>0</td>\n",
              "      <td>10</td>\n",
              "      <td>1181.0</td>\n",
              "      <td>1364.9</td>\n",
              "      <td>9.2</td>\n",
              "      <td>274.3</td>\n",
              "      <td>24</td>\n",
              "      <td>112</td>\n",
              "      <td>12500</td>\n",
              "      <td>880</td>\n",
              "      <td>131.4</td>\n",
              "      <td>72.4</td>\n",
              "      <td>18.0</td>\n",
              "      <td>12</td>\n",
              "      <td>0.996</td>\n",
              "    </tr>\n",
              "    <tr>\n",
              "      <th>998</th>\n",
              "      <td>0</td>\n",
              "      <td>10</td>\n",
              "      <td>662.0</td>\n",
              "      <td>1110.7</td>\n",
              "      <td>12.8</td>\n",
              "      <td>33.2</td>\n",
              "      <td>27</td>\n",
              "      <td>117</td>\n",
              "      <td>3324</td>\n",
              "      <td>1356</td>\n",
              "      <td>193.7</td>\n",
              "      <td>305.6</td>\n",
              "      <td>180.0</td>\n",
              "      <td>12</td>\n",
              "      <td>2.212</td>\n",
              "    </tr>\n",
              "    <tr>\n",
              "      <th>1008</th>\n",
              "      <td>0</td>\n",
              "      <td>10</td>\n",
              "      <td>454.0</td>\n",
              "      <td>986.3</td>\n",
              "      <td>14.3</td>\n",
              "      <td>67.0</td>\n",
              "      <td>24</td>\n",
              "      <td>122</td>\n",
              "      <td>4415</td>\n",
              "      <td>721</td>\n",
              "      <td>293.0</td>\n",
              "      <td>39.8</td>\n",
              "      <td>7.0</td>\n",
              "      <td>18</td>\n",
              "      <td>1.889</td>\n",
              "    </tr>\n",
              "  </tbody>\n",
              "</table>\n",
              "<p>100 rows × 15 columns</p>\n",
              "</div>\n",
              "      <button class=\"colab-df-convert\" onclick=\"convertToInteractive('df-73ed96ae-3151-416a-b6d5-0b9e6abc9ebb')\"\n",
              "              title=\"Convert this dataframe to an interactive table.\"\n",
              "              style=\"display:none;\">\n",
              "        \n",
              "  <svg xmlns=\"http://www.w3.org/2000/svg\" height=\"24px\"viewBox=\"0 0 24 24\"\n",
              "       width=\"24px\">\n",
              "    <path d=\"M0 0h24v24H0V0z\" fill=\"none\"/>\n",
              "    <path d=\"M18.56 5.44l.94 2.06.94-2.06 2.06-.94-2.06-.94-.94-2.06-.94 2.06-2.06.94zm-11 1L8.5 8.5l.94-2.06 2.06-.94-2.06-.94L8.5 2.5l-.94 2.06-2.06.94zm10 10l.94 2.06.94-2.06 2.06-.94-2.06-.94-.94-2.06-.94 2.06-2.06.94z\"/><path d=\"M17.41 7.96l-1.37-1.37c-.4-.4-.92-.59-1.43-.59-.52 0-1.04.2-1.43.59L10.3 9.45l-7.72 7.72c-.78.78-.78 2.05 0 2.83L4 21.41c.39.39.9.59 1.41.59.51 0 1.02-.2 1.41-.59l7.78-7.78 2.81-2.81c.8-.78.8-2.07 0-2.86zM5.41 20L4 18.59l7.72-7.72 1.47 1.35L5.41 20z\"/>\n",
              "  </svg>\n",
              "      </button>\n",
              "      \n",
              "  <style>\n",
              "    .colab-df-container {\n",
              "      display:flex;\n",
              "      flex-wrap:wrap;\n",
              "      gap: 12px;\n",
              "    }\n",
              "\n",
              "    .colab-df-convert {\n",
              "      background-color: #E8F0FE;\n",
              "      border: none;\n",
              "      border-radius: 50%;\n",
              "      cursor: pointer;\n",
              "      display: none;\n",
              "      fill: #1967D2;\n",
              "      height: 32px;\n",
              "      padding: 0 0 0 0;\n",
              "      width: 32px;\n",
              "    }\n",
              "\n",
              "    .colab-df-convert:hover {\n",
              "      background-color: #E2EBFA;\n",
              "      box-shadow: 0px 1px 2px rgba(60, 64, 67, 0.3), 0px 1px 3px 1px rgba(60, 64, 67, 0.15);\n",
              "      fill: #174EA6;\n",
              "    }\n",
              "\n",
              "    [theme=dark] .colab-df-convert {\n",
              "      background-color: #3B4455;\n",
              "      fill: #D2E3FC;\n",
              "    }\n",
              "\n",
              "    [theme=dark] .colab-df-convert:hover {\n",
              "      background-color: #434B5C;\n",
              "      box-shadow: 0px 1px 3px 1px rgba(0, 0, 0, 0.15);\n",
              "      filter: drop-shadow(0px 1px 2px rgba(0, 0, 0, 0.3));\n",
              "      fill: #FFFFFF;\n",
              "    }\n",
              "  </style>\n",
              "\n",
              "      <script>\n",
              "        const buttonEl =\n",
              "          document.querySelector('#df-73ed96ae-3151-416a-b6d5-0b9e6abc9ebb button.colab-df-convert');\n",
              "        buttonEl.style.display =\n",
              "          google.colab.kernel.accessAllowed ? 'block' : 'none';\n",
              "\n",
              "        async function convertToInteractive(key) {\n",
              "          const element = document.querySelector('#df-73ed96ae-3151-416a-b6d5-0b9e6abc9ebb');\n",
              "          const dataTable =\n",
              "            await google.colab.kernel.invokeFunction('convertToInteractive',\n",
              "                                                     [key], {});\n",
              "          if (!dataTable) return;\n",
              "\n",
              "          const docLinkHtml = 'Like what you see? Visit the ' +\n",
              "            '<a target=\"_blank\" href=https://colab.research.google.com/notebooks/data_table.ipynb>data table notebook</a>'\n",
              "            + ' to learn more about interactive tables.';\n",
              "          element.innerHTML = '';\n",
              "          dataTable['output_type'] = 'display_data';\n",
              "          await google.colab.output.renderOutput(dataTable, element);\n",
              "          const docLink = document.createElement('div');\n",
              "          docLink.innerHTML = docLinkHtml;\n",
              "          element.appendChild(docLink);\n",
              "        }\n",
              "      </script>\n",
              "    </div>\n",
              "  </div>\n",
              "  "
            ]
          },
          "metadata": {},
          "execution_count": 9
        }
      ]
    },
    {
      "cell_type": "code",
      "source": [
        "test.columns = test.columns.str.replace('Unnamed: 0', 'Section')"
      ],
      "metadata": {
        "id": "Wc8BVPB4zhtr"
      },
      "execution_count": 10,
      "outputs": []
    },
    {
      "cell_type": "code",
      "source": [
        "model1 = ExtraTreesRegressor(n_estimators=200, max_features='auto', max_leaf_nodes=1000, random_state=67,\n",
        "                             criterion='mse', max_depth=None, min_impurity_decrease=0.0, min_samples_leaf=1, \n",
        "                             min_weight_fraction_leaf=0.1, bootstrap=False, n_jobs=None, oob_score=False, \n",
        "                             verbose=0, warm_start=False)"
      ],
      "metadata": {
        "id": "hi0FNvAPzhwj"
      },
      "execution_count": 11,
      "outputs": []
    },
    {
      "cell_type": "code",
      "source": [
        "model2 = RandomForestRegressor(n_estimators = 1000, random_state = 42)"
      ],
      "metadata": {
        "id": "tzwYrHkxTXXH"
      },
      "execution_count": 12,
      "outputs": []
    },
    {
      "cell_type": "code",
      "source": [
        "model3 = LGBMRegressor(random_state=19)"
      ],
      "metadata": {
        "id": "SmNgJhrVTeAb"
      },
      "execution_count": 13,
      "outputs": []
    },
    {
      "cell_type": "code",
      "source": [
        "predict_cols = ['Para-9', 'Para-10', 'Para-11', 'Para-12', 'Para-13']"
      ],
      "metadata": {
        "id": "nY_L294BzhzV"
      },
      "execution_count": 14,
      "outputs": []
    },
    {
      "cell_type": "code",
      "source": [
        "res1 = {'Para-9': [], 'Para-10': [], 'Para-11': [], 'Para-12': [], 'Para-13': []}"
      ],
      "metadata": {
        "id": "zcaPrPUTzh19"
      },
      "execution_count": 15,
      "outputs": []
    },
    {
      "cell_type": "code",
      "source": [
        "res2 = {'Para-9': [], 'Para-10': [], 'Para-11': [], 'Para-12': [], 'Para-13': []}"
      ],
      "metadata": {
        "id": "HqHTHeCMOO-x"
      },
      "execution_count": 16,
      "outputs": []
    },
    {
      "cell_type": "code",
      "source": [
        "res3 = {'Para-9': [], 'Para-10': [], 'Para-11': [], 'Para-12': [], 'Para-13': []}"
      ],
      "metadata": {
        "id": "h_bcZS_EOPsV"
      },
      "execution_count": 17,
      "outputs": []
    },
    {
      "cell_type": "code",
      "source": [
        "def model_choose(val):\n",
        "    #RMSE = []\n",
        "    N = 0\n",
        "    index = 0\n",
        "    if(val==0):\n",
        "        RMSE = []\n",
        "        for j in [10, 11, 12, 13, 14]:\n",
        "            sol = 0\n",
        "            count = 0\n",
        "            for i in range(0, 1000, 10):\n",
        "                xtrain = df.iloc[i:i+9, 1:10]\n",
        "                ytrain = df.iloc[i:i+9, j]\n",
        "                xtest = df.iloc[i+9, 1:10].to_numpy()\n",
        "                ytest = df.iloc[i+9, j]\n",
        "\n",
        "                model1.fit(xtrain, ytrain)\n",
        "                ypred = model1.predict(xtest.reshape(1,-1))[0]\n",
        "\n",
        "                res1[predict_cols[index]].append(ypred)\n",
        "                sol += (ytest - ypred)**2\n",
        "                count += 1\n",
        "                N += 1\n",
        "\n",
        "            RMSE.append(sol)\n",
        "            index += 1\n",
        "\n",
        "       \n",
        "    elif (val==1):\n",
        "        RMSE = []\n",
        "        for j in [10, 11, 12, 13, 14]:\n",
        "            sol = 0\n",
        "            count = 0\n",
        "            for i in range(0, 1000, 10):\n",
        "                xtrain = df.iloc[i:i+9, 1:10]\n",
        "                ytrain = df.iloc[i:i+9, j]\n",
        "                xtest = df.iloc[i+9, 1:10].to_numpy()\n",
        "                ytest = df.iloc[i+9, j]\n",
        "                 \n",
        "                model2.fit(xtrain, ytrain)\n",
        "                ypred = model2.predict(xtest.reshape(1,-1))[0]\n",
        "\n",
        "                res2[predict_cols[index]].append(ypred)\n",
        "                sol += (ytest - ypred)**2\n",
        "                count += 1\n",
        "                N += 1\n",
        "\n",
        "            RMSE.append(sol)\n",
        "            index += 1\n",
        "    else:\n",
        "      RMSE = []\n",
        "      for j in [10, 11, 12, 13, 14]:\n",
        "            sol = 0\n",
        "            count = 0\n",
        "            for i in range(0, 1000, 10):\n",
        "                xtrain = df.iloc[i:i+9, 1:10]\n",
        "                ytrain = df.iloc[i:i+9, j]\n",
        "                xtest = df.iloc[i+9, 1:10].to_numpy()\n",
        "                ytest = df.iloc[i+9, j]\n",
        "\n",
        "                model3.fit(xtrain, ytrain)\n",
        "                ypred = model3.predict(xtest.reshape(1,-1))[0]\n",
        "\n",
        "                res3[predict_cols[index]].append(ypred)\n",
        "                sol += (ytest - ypred)**2\n",
        "                count += 1\n",
        "                N += 1\n",
        "\n",
        "            RMSE.append(sol)\n",
        "            index += 1\n",
        "        \n",
        "    return (RMSE, count)"
      ],
      "metadata": {
        "id": "6gk1H7LB6b6O"
      },
      "execution_count": 22,
      "outputs": []
    },
    {
      "cell_type": "code",
      "source": [
        "import warnings\n",
        "warnings.filterwarnings(\"ignore\")"
      ],
      "metadata": {
        "id": "OBxME6dD_tED"
      },
      "execution_count": 23,
      "outputs": []
    },
    {
      "cell_type": "code",
      "source": [
        "res_RMSE1, res_count1 = model_choose(0)"
      ],
      "metadata": {
        "id": "rwjfc7rC_1Zh"
      },
      "execution_count": 24,
      "outputs": []
    },
    {
      "cell_type": "code",
      "source": [
        "res_RMSE2, res_count2 = model_choose(1)"
      ],
      "metadata": {
        "id": "gLWLtJ3dfRV8"
      },
      "execution_count": 25,
      "outputs": []
    },
    {
      "cell_type": "code",
      "source": [
        "res_RMSE3, res_count3 = model_choose(2)"
      ],
      "metadata": {
        "id": "doXjQOjNI0o-"
      },
      "execution_count": 26,
      "outputs": []
    },
    {
      "cell_type": "code",
      "source": [
        "#RMSE for each column\n",
        "for i in res_RMSE1:\n",
        "    print((i/res_count1)**0.5)"
      ],
      "metadata": {
        "colab": {
          "base_uri": "https://localhost:8080/"
        },
        "id": "niQq7UA77GWE",
        "outputId": "2e734945-3c9d-4747-b1e3-8e854d624361"
      },
      "execution_count": 27,
      "outputs": [
        {
          "output_type": "stream",
          "name": "stdout",
          "text": [
            "61.728737479069046\n",
            "65.5600337193896\n",
            "25.9689601904851\n",
            "14.530292392102782\n",
            "0.30080263006538455\n"
          ]
        }
      ]
    },
    {
      "cell_type": "code",
      "source": [
        "#RMSE for each column\n",
        "for i in res_RMSE2:\n",
        "    print((i/res_count2)**0.5)"
      ],
      "metadata": {
        "colab": {
          "base_uri": "https://localhost:8080/"
        },
        "id": "DHJDU9mGLSeo",
        "outputId": "9cd8fe4d-afc0-42bf-de89-2d27c78fe6dd"
      },
      "execution_count": 28,
      "outputs": [
        {
          "output_type": "stream",
          "name": "stdout",
          "text": [
            "69.46258639071974\n",
            "70.0759035409492\n",
            "28.063391114998907\n",
            "15.053109911576412\n",
            "0.30160469735033363\n"
          ]
        }
      ]
    },
    {
      "cell_type": "code",
      "source": [
        "#RMSE for each column\n",
        "for i in res_RMSE3:\n",
        "    print((i/res_count3)**0.5)"
      ],
      "metadata": {
        "colab": {
          "base_uri": "https://localhost:8080/"
        },
        "id": "Gajq-JXJLVnH",
        "outputId": "67317450-7fdb-4439-a569-7804a2fee60f"
      },
      "execution_count": 29,
      "outputs": [
        {
          "output_type": "stream",
          "name": "stdout",
          "text": [
            "97.15405541798003\n",
            "105.38390087117291\n",
            "46.300027795178536\n",
            "18.70407957084745\n",
            "0.420822084543291\n"
          ]
        }
      ]
    },
    {
      "cell_type": "code",
      "source": [
        "res_RMSE1"
      ],
      "metadata": {
        "colab": {
          "base_uri": "https://localhost:8080/"
        },
        "id": "C5tpjf2Q7Gbj",
        "outputId": "aadebd13-d4e0-4360-c3ca-95c3ecec2653"
      },
      "execution_count": 30,
      "outputs": [
        {
          "output_type": "execute_result",
          "data": {
            "text/plain": [
              "[381043.70307598234,\n",
              " 429811.80212874996,\n",
              " 67438.68933749999,\n",
              " 21112.9397,\n",
              " 9.04822222542526]"
            ]
          },
          "metadata": {},
          "execution_count": 30
        }
      ]
    },
    {
      "cell_type": "code",
      "source": [
        "res_RMSE2"
      ],
      "metadata": {
        "colab": {
          "base_uri": "https://localhost:8080/"
        },
        "id": "blTg2tE4Lffp",
        "outputId": "13fd83f7-92a1-4ef6-a8e8-8ef9c0b3baab"
      },
      "execution_count": 31,
      "outputs": [
        {
          "output_type": "execute_result",
          "data": {
            "text/plain": [
              "[482505.09080882027,\n",
              " 491063.2257080416,\n",
              " 78755.39208733996,\n",
              " 22659.611801000003,\n",
              " 9.096539346378634]"
            ]
          },
          "metadata": {},
          "execution_count": 31
        }
      ]
    },
    {
      "cell_type": "code",
      "source": [
        "res_RMSE3"
      ],
      "metadata": {
        "colab": {
          "base_uri": "https://localhost:8080/"
        },
        "id": "iWgzd-RGLhlp",
        "outputId": "0adb577d-1584-4a56-8298-09eb78177dfb"
      },
      "execution_count": 32,
      "outputs": [
        {
          "output_type": "execute_result",
          "data": {
            "text/plain": [
              "[943891.0484159936,\n",
              " 1110576.65628252,\n",
              " 214369.2573834305,\n",
              " 34984.2592592593,\n",
              " 17.709122683936076]"
            ]
          },
          "metadata": {},
          "execution_count": 32
        }
      ]
    },
    {
      "cell_type": "code",
      "source": [
        "#Total RMSE\n",
        "print((sum(res_RMSE1)/500)**0.5)"
      ],
      "metadata": {
        "colab": {
          "base_uri": "https://localhost:8080/"
        },
        "id": "-QAidV9R7GeY",
        "outputId": "0ffabf80-570a-4128-cb6e-3ebb7b62bcdb"
      },
      "execution_count": 33,
      "outputs": [
        {
          "output_type": "stream",
          "name": "stdout",
          "text": [
            "42.412643927594466\n"
          ]
        }
      ]
    },
    {
      "cell_type": "code",
      "source": [
        "#Total RMSE\n",
        "print((sum(res_RMSE2)/500)**0.5)"
      ],
      "metadata": {
        "colab": {
          "base_uri": "https://localhost:8080/"
        },
        "id": "IlUAqUPZLk8k",
        "outputId": "b309f4cd-c7be-40a2-e887-6b0738b489cb"
      },
      "execution_count": 34,
      "outputs": [
        {
          "output_type": "stream",
          "name": "stdout",
          "text": [
            "46.367928936810365\n"
          ]
        }
      ]
    },
    {
      "cell_type": "code",
      "source": [
        "#Total RMSE\n",
        "print((sum(res_RMSE3)/500)**0.5)"
      ],
      "metadata": {
        "colab": {
          "base_uri": "https://localhost:8080/"
        },
        "id": "66k3UDevLlxx",
        "outputId": "219f0144-6ebf-48c3-9461-dc53b989d716"
      },
      "execution_count": 35,
      "outputs": [
        {
          "output_type": "stream",
          "name": "stdout",
          "text": [
            "67.87987817407877\n"
          ]
        }
      ]
    },
    {
      "cell_type": "markdown",
      "source": [
        "Now we see model 1, Extra Trees Regressor, is the best out of three."
      ],
      "metadata": {
        "id": "rhvr087UXfFr"
      }
    },
    {
      "cell_type": "code",
      "source": [
        "datapredicted = pd.DataFrame.from_dict(res1)\n",
        "datapredicted"
      ],
      "metadata": {
        "colab": {
          "base_uri": "https://localhost:8080/",
          "height": 424
        },
        "id": "15u6Pp6ZOApq",
        "outputId": "7067324a-8454-4f28-b435-6ed96e5ee389"
      },
      "execution_count": 36,
      "outputs": [
        {
          "output_type": "execute_result",
          "data": {
            "text/plain": [
              "      Para-9   Para-10  Para-11  Para-12   Para-13\n",
              "0     3.0955   58.2220   48.450    7.975  1.909800\n",
              "1    58.5875   28.8200    0.900    7.865  0.792305\n",
              "2    71.0200    0.0000    0.000   13.680  1.376575\n",
              "3    20.1465   54.7580   57.875    7.425  1.862195\n",
              "4     0.0000  258.5060   33.965    5.975  1.757360\n",
              "..       ...       ...      ...      ...       ...\n",
              "195   0.0000  102.3395   14.375    3.890  1.349830\n",
              "196  89.7835  157.4145    4.360    5.880  1.353915\n",
              "197   0.0500   27.1590   13.880   10.110  1.033160\n",
              "198  48.5480   28.8390    7.525    9.430  0.777645\n",
              "199  30.2690   35.3550   47.415    6.135  1.748690\n",
              "\n",
              "[200 rows x 5 columns]"
            ],
            "text/html": [
              "\n",
              "  <div id=\"df-bc3206f8-6b96-474e-9032-692c7ab5d08d\">\n",
              "    <div class=\"colab-df-container\">\n",
              "      <div>\n",
              "<style scoped>\n",
              "    .dataframe tbody tr th:only-of-type {\n",
              "        vertical-align: middle;\n",
              "    }\n",
              "\n",
              "    .dataframe tbody tr th {\n",
              "        vertical-align: top;\n",
              "    }\n",
              "\n",
              "    .dataframe thead th {\n",
              "        text-align: right;\n",
              "    }\n",
              "</style>\n",
              "<table border=\"1\" class=\"dataframe\">\n",
              "  <thead>\n",
              "    <tr style=\"text-align: right;\">\n",
              "      <th></th>\n",
              "      <th>Para-9</th>\n",
              "      <th>Para-10</th>\n",
              "      <th>Para-11</th>\n",
              "      <th>Para-12</th>\n",
              "      <th>Para-13</th>\n",
              "    </tr>\n",
              "  </thead>\n",
              "  <tbody>\n",
              "    <tr>\n",
              "      <th>0</th>\n",
              "      <td>3.0955</td>\n",
              "      <td>58.2220</td>\n",
              "      <td>48.450</td>\n",
              "      <td>7.975</td>\n",
              "      <td>1.909800</td>\n",
              "    </tr>\n",
              "    <tr>\n",
              "      <th>1</th>\n",
              "      <td>58.5875</td>\n",
              "      <td>28.8200</td>\n",
              "      <td>0.900</td>\n",
              "      <td>7.865</td>\n",
              "      <td>0.792305</td>\n",
              "    </tr>\n",
              "    <tr>\n",
              "      <th>2</th>\n",
              "      <td>71.0200</td>\n",
              "      <td>0.0000</td>\n",
              "      <td>0.000</td>\n",
              "      <td>13.680</td>\n",
              "      <td>1.376575</td>\n",
              "    </tr>\n",
              "    <tr>\n",
              "      <th>3</th>\n",
              "      <td>20.1465</td>\n",
              "      <td>54.7580</td>\n",
              "      <td>57.875</td>\n",
              "      <td>7.425</td>\n",
              "      <td>1.862195</td>\n",
              "    </tr>\n",
              "    <tr>\n",
              "      <th>4</th>\n",
              "      <td>0.0000</td>\n",
              "      <td>258.5060</td>\n",
              "      <td>33.965</td>\n",
              "      <td>5.975</td>\n",
              "      <td>1.757360</td>\n",
              "    </tr>\n",
              "    <tr>\n",
              "      <th>...</th>\n",
              "      <td>...</td>\n",
              "      <td>...</td>\n",
              "      <td>...</td>\n",
              "      <td>...</td>\n",
              "      <td>...</td>\n",
              "    </tr>\n",
              "    <tr>\n",
              "      <th>195</th>\n",
              "      <td>0.0000</td>\n",
              "      <td>102.3395</td>\n",
              "      <td>14.375</td>\n",
              "      <td>3.890</td>\n",
              "      <td>1.349830</td>\n",
              "    </tr>\n",
              "    <tr>\n",
              "      <th>196</th>\n",
              "      <td>89.7835</td>\n",
              "      <td>157.4145</td>\n",
              "      <td>4.360</td>\n",
              "      <td>5.880</td>\n",
              "      <td>1.353915</td>\n",
              "    </tr>\n",
              "    <tr>\n",
              "      <th>197</th>\n",
              "      <td>0.0500</td>\n",
              "      <td>27.1590</td>\n",
              "      <td>13.880</td>\n",
              "      <td>10.110</td>\n",
              "      <td>1.033160</td>\n",
              "    </tr>\n",
              "    <tr>\n",
              "      <th>198</th>\n",
              "      <td>48.5480</td>\n",
              "      <td>28.8390</td>\n",
              "      <td>7.525</td>\n",
              "      <td>9.430</td>\n",
              "      <td>0.777645</td>\n",
              "    </tr>\n",
              "    <tr>\n",
              "      <th>199</th>\n",
              "      <td>30.2690</td>\n",
              "      <td>35.3550</td>\n",
              "      <td>47.415</td>\n",
              "      <td>6.135</td>\n",
              "      <td>1.748690</td>\n",
              "    </tr>\n",
              "  </tbody>\n",
              "</table>\n",
              "<p>200 rows × 5 columns</p>\n",
              "</div>\n",
              "      <button class=\"colab-df-convert\" onclick=\"convertToInteractive('df-bc3206f8-6b96-474e-9032-692c7ab5d08d')\"\n",
              "              title=\"Convert this dataframe to an interactive table.\"\n",
              "              style=\"display:none;\">\n",
              "        \n",
              "  <svg xmlns=\"http://www.w3.org/2000/svg\" height=\"24px\"viewBox=\"0 0 24 24\"\n",
              "       width=\"24px\">\n",
              "    <path d=\"M0 0h24v24H0V0z\" fill=\"none\"/>\n",
              "    <path d=\"M18.56 5.44l.94 2.06.94-2.06 2.06-.94-2.06-.94-.94-2.06-.94 2.06-2.06.94zm-11 1L8.5 8.5l.94-2.06 2.06-.94-2.06-.94L8.5 2.5l-.94 2.06-2.06.94zm10 10l.94 2.06.94-2.06 2.06-.94-2.06-.94-.94-2.06-.94 2.06-2.06.94z\"/><path d=\"M17.41 7.96l-1.37-1.37c-.4-.4-.92-.59-1.43-.59-.52 0-1.04.2-1.43.59L10.3 9.45l-7.72 7.72c-.78.78-.78 2.05 0 2.83L4 21.41c.39.39.9.59 1.41.59.51 0 1.02-.2 1.41-.59l7.78-7.78 2.81-2.81c.8-.78.8-2.07 0-2.86zM5.41 20L4 18.59l7.72-7.72 1.47 1.35L5.41 20z\"/>\n",
              "  </svg>\n",
              "      </button>\n",
              "      \n",
              "  <style>\n",
              "    .colab-df-container {\n",
              "      display:flex;\n",
              "      flex-wrap:wrap;\n",
              "      gap: 12px;\n",
              "    }\n",
              "\n",
              "    .colab-df-convert {\n",
              "      background-color: #E8F0FE;\n",
              "      border: none;\n",
              "      border-radius: 50%;\n",
              "      cursor: pointer;\n",
              "      display: none;\n",
              "      fill: #1967D2;\n",
              "      height: 32px;\n",
              "      padding: 0 0 0 0;\n",
              "      width: 32px;\n",
              "    }\n",
              "\n",
              "    .colab-df-convert:hover {\n",
              "      background-color: #E2EBFA;\n",
              "      box-shadow: 0px 1px 2px rgba(60, 64, 67, 0.3), 0px 1px 3px 1px rgba(60, 64, 67, 0.15);\n",
              "      fill: #174EA6;\n",
              "    }\n",
              "\n",
              "    [theme=dark] .colab-df-convert {\n",
              "      background-color: #3B4455;\n",
              "      fill: #D2E3FC;\n",
              "    }\n",
              "\n",
              "    [theme=dark] .colab-df-convert:hover {\n",
              "      background-color: #434B5C;\n",
              "      box-shadow: 0px 1px 3px 1px rgba(0, 0, 0, 0.15);\n",
              "      filter: drop-shadow(0px 1px 2px rgba(0, 0, 0, 0.3));\n",
              "      fill: #FFFFFF;\n",
              "    }\n",
              "  </style>\n",
              "\n",
              "      <script>\n",
              "        const buttonEl =\n",
              "          document.querySelector('#df-bc3206f8-6b96-474e-9032-692c7ab5d08d button.colab-df-convert');\n",
              "        buttonEl.style.display =\n",
              "          google.colab.kernel.accessAllowed ? 'block' : 'none';\n",
              "\n",
              "        async function convertToInteractive(key) {\n",
              "          const element = document.querySelector('#df-bc3206f8-6b96-474e-9032-692c7ab5d08d');\n",
              "          const dataTable =\n",
              "            await google.colab.kernel.invokeFunction('convertToInteractive',\n",
              "                                                     [key], {});\n",
              "          if (!dataTable) return;\n",
              "\n",
              "          const docLinkHtml = 'Like what you see? Visit the ' +\n",
              "            '<a target=\"_blank\" href=https://colab.research.google.com/notebooks/data_table.ipynb>data table notebook</a>'\n",
              "            + ' to learn more about interactive tables.';\n",
              "          element.innerHTML = '';\n",
              "          dataTable['output_type'] = 'display_data';\n",
              "          await google.colab.output.renderOutput(dataTable, element);\n",
              "          const docLink = document.createElement('div');\n",
              "          docLink.innerHTML = docLinkHtml;\n",
              "          element.appendChild(docLink);\n",
              "        }\n",
              "      </script>\n",
              "    </div>\n",
              "  </div>\n",
              "  "
            ]
          },
          "metadata": {},
          "execution_count": 36
        }
      ]
    },
    {
      "cell_type": "markdown",
      "source": [
        "Plots"
      ],
      "metadata": {
        "id": "rmI7ewv8YAo0"
      }
    },
    {
      "cell_type": "code",
      "source": [
        "import random\n",
        "ind = []\n",
        "for i in range(50):\n",
        "    ind.append(random.randint(0,100))\n",
        "#50 random rows selected"
      ],
      "metadata": {
        "id": "UKG50QuP7Gh6"
      },
      "execution_count": 38,
      "outputs": []
    },
    {
      "cell_type": "code",
      "source": [
        "for i in range(5):\n",
        "    plt.figure(figsize=(6,6))\n",
        "    true = test.iloc[ind, i+10]\n",
        "    predicted = datapredicted.iloc[ind, i]\n",
        "    plt.scatter(true, predicted, c='pink')\n",
        "\n",
        "    plot1 = max(max(predicted), max(true))\n",
        "    plot2 = min(min(predicted), min(true))\n",
        "    plt.plot([plot1, plot2], [plot1, plot2], 'black')\n",
        "    plt.title(predict_cols[i])\n",
        "    plt.xlabel('True Values', fontsize=12)\n",
        "    plt.ylabel('Predictions', fontsize=12)\n",
        "    plt.show()"
      ],
      "metadata": {
        "colab": {
          "base_uri": "https://localhost:8080/",
          "height": 1000
        },
        "id": "6qX_f-u5X6yd",
        "outputId": "da1d62c0-201e-4fe8-cdc0-d20f1e3f3f63"
      },
      "execution_count": 39,
      "outputs": [
        {
          "output_type": "display_data",
          "data": {
            "text/plain": [
              "<Figure size 432x432 with 1 Axes>"
            ],
            "image/png": "[encoded data removed]"
          },
          "metadata": {
            "needs_background": "light"
          }
        },
        {
          "output_type": "display_data",
          "data": {
            "text/plain": [
              "<Figure size 432x432 with 1 Axes>"
            ],
            "image/png": "[encoded data removed]"
          },
          "metadata": {
            "needs_background": "light"
          }
        },
        {
          "output_type": "display_data",
          "data": {
            "text/plain": [
              "<Figure size 432x432 with 1 Axes>"
            ],
            "image/png": "[encoded data removed]"
          },
          "metadata": {
            "needs_background": "light"
          }
        },
        {
          "output_type": "display_data",
          "data": {
            "text/plain": [
              "<Figure size 432x432 with 1 Axes>"
            ],
            "image/png": "[encoded data removed]"
          },
          "metadata": {
            "needs_background": "light"
          }
        },
        {
          "output_type": "display_data",
          "data": {
            "text/plain": [
              "<Figure size 432x432 with 1 Axes>"
            ],
            "image/png": "[encoded data removed]"
          },
          "metadata": {
            "needs_background": "light"
          }
        }
      ]
    },
    {
      "cell_type": "code",
      "source": [],
      "metadata": {
        "id": "zqQHnWW_Ybrb"
      },
      "execution_count": null,
      "outputs": []
    }
  ]
}